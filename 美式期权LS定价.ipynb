{
 "cells": [
  {
   "cell_type": "code",
   "execution_count": 4,
   "metadata": {},
   "outputs": [],
   "source": [
    "import scipy.stats as ss\n",
    "import numpy as np\n",
    "\n",
    "def LSM(S0, K, T, r, sig, payoff, N=45, paths=10000, order=2):\n",
    "\n",
    "    dt = T/(N-1)          # time interval\n",
    "    df = np.exp(r * dt)  # discount factor per time time interval\n",
    "\n",
    "    X0 = np.zeros((paths,1))\n",
    "    increments = ss.norm.rvs(loc=(r - sig**2/2)*dt, scale=np.sqrt(dt)*sig, size=(paths,N-1))\n",
    "    X = np.concatenate((X0,increments), axis=1).cumsum(1)\n",
    "    S = S0 * np.exp(X)\n",
    "    if payoff == \"put\":\n",
    "        H = np.maximum(K - S, 0)   # intrinsic values for put option\n",
    "    if payoff == \"call\":\n",
    "        H = np.maximum(S - K, 0)   # intrinsic values for call option\n",
    "    V = np.zeros_like(H)            # value matrix\n",
    "    V[:,-1] = H[:,-1]\n",
    "\n",
    "    # Valuation by LS Method\n",
    "    for t in range(N-2, 0, -1):\n",
    "        good_paths = H[:,t] > 0    \n",
    "        # polynomial regression：将EV>0的部分挑出来回归\n",
    "        rg = np.polyfit( S[good_paths, t], V[good_paths, t+1] * df, 2)    \n",
    "        # 估计E(HV)\n",
    "        C = np.polyval( rg, S[good_paths,t] )                             \n",
    "        # 如果E(HV)<EV，那么行权\n",
    "        exercise = np.zeros( len(good_paths), dtype=bool)\n",
    "        exercise[good_paths] = H[good_paths,t] > C\n",
    "        V[exercise,t] = H[exercise,t]\n",
    "        V[exercise,t+1:] = 0\n",
    "        discount_path = (V[:,t] == 0)\n",
    "        V[discount_path,t] = V[discount_path,t+1] * df\n",
    "    V0 = np.mean(V[:,1]) * df  # \n",
    "    return V0\n",
    "\n",
    "call = LSM(100, 100, 1, 0.1, 0.2, 'call', N=10000, paths=10000, order=2)\n",
    "put = LSM(100, 100, 1, 0.1, 0.2, 'put', N=10000, paths=10000, order=2)"
   ]
  },
  {
   "cell_type": "code",
   "execution_count": 7,
   "metadata": {},
   "outputs": [
    {
     "data": {
      "text/plain": [
       "(15.842643964447301, 5.282024498539422)"
      ]
     },
     "execution_count": 7,
     "metadata": {},
     "output_type": "execute_result"
    }
   ],
   "source": [
    "call, put"
   ]
  }
 ],
 "metadata": {
  "interpreter": {
   "hash": "ad2bdc8ecc057115af97d19610ffacc2b4e99fae6737bb82f5d7fb13d2f2c186"
  },
  "kernelspec": {
   "display_name": "Python 3.8.8 ('base')",
   "language": "python",
   "name": "python3"
  },
  "language_info": {
   "codemirror_mode": {
    "name": "ipython",
    "version": 3
   },
   "file_extension": ".py",
   "mimetype": "text/x-python",
   "name": "python",
   "nbconvert_exporter": "python",
   "pygments_lexer": "ipython3",
   "version": "3.8.8"
  },
  "orig_nbformat": 4
 },
 "nbformat": 4,
 "nbformat_minor": 2
}
