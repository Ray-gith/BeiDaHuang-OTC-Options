{
 "cells": [
  {
   "cell_type": "code",
   "execution_count": 1,
   "metadata": {},
   "outputs": [
    {
     "data": {
      "text/html": [
       "<div>\n",
       "<style scoped>\n",
       "    .dataframe tbody tr th:only-of-type {\n",
       "        vertical-align: middle;\n",
       "    }\n",
       "\n",
       "    .dataframe tbody tr th {\n",
       "        vertical-align: top;\n",
       "    }\n",
       "\n",
       "    .dataframe thead th {\n",
       "        text-align: right;\n",
       "    }\n",
       "</style>\n",
       "<table border=\"1\" class=\"dataframe\">\n",
       "  <thead>\n",
       "    <tr style=\"text-align: right;\">\n",
       "      <th></th>\n",
       "      <th>开盘价(元)</th>\n",
       "      <th>最高价(元)</th>\n",
       "      <th>最低价(元)</th>\n",
       "      <th>收盘价(元)</th>\n",
       "      <th>结算价</th>\n",
       "      <th>成交额(百万)</th>\n",
       "      <th>成交量</th>\n",
       "      <th>持仓量</th>\n",
       "    </tr>\n",
       "    <tr>\n",
       "      <th>日期</th>\n",
       "      <th></th>\n",
       "      <th></th>\n",
       "      <th></th>\n",
       "      <th></th>\n",
       "      <th></th>\n",
       "      <th></th>\n",
       "      <th></th>\n",
       "      <th></th>\n",
       "    </tr>\n",
       "  </thead>\n",
       "  <tbody>\n",
       "    <tr>\n",
       "      <th>2004-09-22</th>\n",
       "      <td>1230</td>\n",
       "      <td>1235</td>\n",
       "      <td>1190</td>\n",
       "      <td>1191</td>\n",
       "      <td>1203</td>\n",
       "      <td>1875.07</td>\n",
       "      <td>155816</td>\n",
       "      <td>50352</td>\n",
       "    </tr>\n",
       "    <tr>\n",
       "      <th>2004-09-23</th>\n",
       "      <td>1181</td>\n",
       "      <td>1183</td>\n",
       "      <td>1172</td>\n",
       "      <td>1176</td>\n",
       "      <td>1178</td>\n",
       "      <td>876.71</td>\n",
       "      <td>74392</td>\n",
       "      <td>50162</td>\n",
       "    </tr>\n",
       "    <tr>\n",
       "      <th>2004-09-24</th>\n",
       "      <td>1165</td>\n",
       "      <td>1185</td>\n",
       "      <td>1165</td>\n",
       "      <td>1179</td>\n",
       "      <td>1179</td>\n",
       "      <td>692.56</td>\n",
       "      <td>58734</td>\n",
       "      <td>49068</td>\n",
       "    </tr>\n",
       "    <tr>\n",
       "      <th>2004-09-27</th>\n",
       "      <td>1191</td>\n",
       "      <td>1192</td>\n",
       "      <td>1159</td>\n",
       "      <td>1159</td>\n",
       "      <td>1169</td>\n",
       "      <td>958.59</td>\n",
       "      <td>81988</td>\n",
       "      <td>64722</td>\n",
       "    </tr>\n",
       "    <tr>\n",
       "      <th>2004-09-28</th>\n",
       "      <td>1159</td>\n",
       "      <td>1171</td>\n",
       "      <td>1159</td>\n",
       "      <td>1165</td>\n",
       "      <td>1165</td>\n",
       "      <td>622.16</td>\n",
       "      <td>53362</td>\n",
       "      <td>65830</td>\n",
       "    </tr>\n",
       "    <tr>\n",
       "      <th>...</th>\n",
       "      <td>...</td>\n",
       "      <td>...</td>\n",
       "      <td>...</td>\n",
       "      <td>...</td>\n",
       "      <td>...</td>\n",
       "      <td>...</td>\n",
       "      <td>...</td>\n",
       "      <td>...</td>\n",
       "    </tr>\n",
       "    <tr>\n",
       "      <th>2022-05-23</th>\n",
       "      <td>3005</td>\n",
       "      <td>3008</td>\n",
       "      <td>2982</td>\n",
       "      <td>2984</td>\n",
       "      <td>2993</td>\n",
       "      <td>12195.08</td>\n",
       "      <td>407377</td>\n",
       "      <td>1247421</td>\n",
       "    </tr>\n",
       "    <tr>\n",
       "      <th>2022-05-24</th>\n",
       "      <td>2984</td>\n",
       "      <td>2989</td>\n",
       "      <td>2953</td>\n",
       "      <td>2955</td>\n",
       "      <td>2969</td>\n",
       "      <td>13784.54</td>\n",
       "      <td>464164</td>\n",
       "      <td>1239299</td>\n",
       "    </tr>\n",
       "    <tr>\n",
       "      <th>2022-05-25</th>\n",
       "      <td>2954</td>\n",
       "      <td>2966</td>\n",
       "      <td>2923</td>\n",
       "      <td>2943</td>\n",
       "      <td>2942</td>\n",
       "      <td>18660.74</td>\n",
       "      <td>634173</td>\n",
       "      <td>1231195</td>\n",
       "    </tr>\n",
       "    <tr>\n",
       "      <th>2022-05-26</th>\n",
       "      <td>2935</td>\n",
       "      <td>2943</td>\n",
       "      <td>2919</td>\n",
       "      <td>2936</td>\n",
       "      <td>2931</td>\n",
       "      <td>11683.36</td>\n",
       "      <td>398506</td>\n",
       "      <td>1221095</td>\n",
       "    </tr>\n",
       "    <tr>\n",
       "      <th>2022-05-27</th>\n",
       "      <td>2932</td>\n",
       "      <td>2954</td>\n",
       "      <td>2920</td>\n",
       "      <td>2944</td>\n",
       "      <td>2938</td>\n",
       "      <td>11359.47</td>\n",
       "      <td>386619</td>\n",
       "      <td>1230802</td>\n",
       "    </tr>\n",
       "  </tbody>\n",
       "</table>\n",
       "<p>4296 rows × 8 columns</p>\n",
       "</div>"
      ],
      "text/plain": [
       "            开盘价(元)  最高价(元)  最低价(元)  收盘价(元)   结算价   成交额(百万)     成交量      持仓量\n",
       "日期                                                                         \n",
       "2004-09-22    1230    1235    1190    1191  1203   1875.07  155816    50352\n",
       "2004-09-23    1181    1183    1172    1176  1178    876.71   74392    50162\n",
       "2004-09-24    1165    1185    1165    1179  1179    692.56   58734    49068\n",
       "2004-09-27    1191    1192    1159    1159  1169    958.59   81988    64722\n",
       "2004-09-28    1159    1171    1159    1165  1165    622.16   53362    65830\n",
       "...            ...     ...     ...     ...   ...       ...     ...      ...\n",
       "2022-05-23    3005    3008    2982    2984  2993  12195.08  407377  1247421\n",
       "2022-05-24    2984    2989    2953    2955  2969  13784.54  464164  1239299\n",
       "2022-05-25    2954    2966    2923    2943  2942  18660.74  634173  1231195\n",
       "2022-05-26    2935    2943    2919    2936  2931  11683.36  398506  1221095\n",
       "2022-05-27    2932    2954    2920    2944  2938  11359.47  386619  1230802\n",
       "\n",
       "[4296 rows x 8 columns]"
      ]
     },
     "execution_count": 1,
     "metadata": {},
     "output_type": "execute_result"
    }
   ],
   "source": [
    "import numpy as np\n",
    "import pandas as pd\n",
    "\n",
    "data = pd.read_excel('主力合约绘图.xlsx').drop(columns=['代码', '名称']).set_index('日期')\n",
    "data"
   ]
  },
  {
   "cell_type": "code",
   "execution_count": 2,
   "metadata": {},
   "outputs": [],
   "source": [
    "mon_lst = ['09', '10', '11', '12']\n",
    "data1 = pd.read_excel('玉米连一.xlsx')\n",
    "data1['month'] = data1['日期'].apply(lambda x: x.strftime(\"%m\"))\n",
    "data1['ret'] = data1['收盘价(元)'].pct_change()\n",
    "data1 = data1[data1['month'].apply(lambda x: x in mon_lst)].drop(columns=['代码', '名称']).set_index('日期')['ret'].dropna()\n",
    "\n",
    "mon_lst = ['01', '02', '03', '04']\n",
    "data5 = pd.read_excel('玉米连五.xlsx')\n",
    "data5['month'] = data5['日期'].apply(lambda x: x.strftime(\"%m\"))\n",
    "data5['ret'] = data5['收盘价(元)'].pct_change()\n",
    "data5 = data5[data5['month'].apply(lambda x: x in mon_lst)].drop(columns=['代码', '名称']).set_index('日期')['ret'].dropna()\n",
    "\n",
    "mon_lst = ['05', '06', '07', '08']\n",
    "data9 = pd.read_excel('玉米连九.xlsx')\n",
    "data9['month'] = data9['日期'].apply(lambda x: x.strftime(\"%m\"))\n",
    "data9['ret'] = data9['收盘价(元)'].pct_change()\n",
    "data9 = data9[data9['month'].apply(lambda x: x in mon_lst)].drop(columns=['代码', '名称']).set_index('日期')['ret'].dropna()\n"
   ]
  },
  {
   "cell_type": "code",
   "execution_count": 3,
   "metadata": {},
   "outputs": [
    {
     "data": {
      "text/plain": [
       "<AxesSubplot:ylabel='Frequency'>"
      ]
     },
     "execution_count": 3,
     "metadata": {},
     "output_type": "execute_result"
    },
    {
     "data": {
      "image/png": "[encoded data removed]",
      "text/plain": [
       "<Figure size 432x288 with 1 Axes>"
      ]
     },
     "metadata": {
      "needs_background": "light"
     },
     "output_type": "display_data"
    }
   ],
   "source": [
    "data = pd.concat([data1, data5, data9])\n",
    "data.plot(kind='hist', bins=40, density=True)"
   ]
  },
  {
   "cell_type": "code",
   "execution_count": null,
   "metadata": {},
   "outputs": [],
   "source": [
    "data.describe()"
   ]
  },
  {
   "cell_type": "code",
   "execution_count": 4,
   "metadata": {},
   "outputs": [],
   "source": [
    "from sklearn.neighbors import KernelDensity\n",
    "\n",
    "kde = KernelDensity(kernel='exponential', bandwidth=0.001).fit(data.values.reshape(-1, 1))"
   ]
  },
  {
   "cell_type": "code",
   "execution_count": 5,
   "metadata": {},
   "outputs": [
    {
     "data": {
      "text/plain": [
       "<matplotlib.legend.Legend at 0x7f9e71609970>"
      ]
     },
     "execution_count": 5,
     "metadata": {},
     "output_type": "execute_result"
    },
    {
     "data": {
      "image/png": "[encoded data removed]",
      "text/plain": [
       "<Figure size 432x288 with 1 Axes>"
      ]
     },
     "metadata": {
      "needs_background": "light"
     },
     "output_type": "display_data"
    }
   ],
   "source": [
    "import matplotlib.pyplot as plt\n",
    "\n",
    "x = np.arange(-0.07, 0.06, 0.001)\n",
    "y = np.exp(kde.score_samples(x.reshape(-1, 1)))\n",
    "plt.plot(x, y, label='kde')\n",
    "plt.hist(data, 40, density=True, label='true density')\n",
    "plt.legend()"
   ]
  },
  {
   "cell_type": "code",
   "execution_count": 190,
   "metadata": {},
   "outputs": [
    {
     "name": "stderr",
     "output_type": "stream",
     "text": [
      "100%|██████████| 589999/589999 [05:10<00:00, 1899.12it/s]\n"
     ]
    }
   ],
   "source": [
    "from scipy.stats import norm\n",
    "import random\n",
    "import tqdm\n",
    "\n",
    "def dist_prob(theta):\n",
    "    if type(theta) is float:\n",
    "        theta = np.array([theta])\n",
    "    y = np.exp(kde.score_samples(theta.reshape(-1, 1)))\n",
    "    return y\n",
    "\n",
    "T = 590000\n",
    "pi = [0.1 for i in range(T)]\n",
    "sigma = 1\n",
    "t = 0\n",
    "for t in tqdm.tqdm(range(T-1)):\n",
    "    t = t + 1\n",
    "    pi_star = norm.rvs(loc=pi[t - 1], scale=sigma, size=1, random_state=None)   #状态转移进行随机抽样\n",
    "    alpha = min(1, (dist_prob(pi_star[0]) / dist_prob(pi[t - 1])))   #alpha值\n",
    "\n",
    "    u = random.uniform(0, 1)\n",
    "    if u < alpha:\n",
    "        pi[t] = pi_star[0]\n",
    "    else:\n",
    "        pi[t] = pi[t - 1]\n",
    "\n",
    "\n"
   ]
  },
  {
   "cell_type": "code",
   "execution_count": 207,
   "metadata": {},
   "outputs": [],
   "source": [
    "plt.scatter(pi, dist_prob(np.array(pi)),label='Target Distribution')\n",
    "num_bins = 60\n",
    "plt.hist(pi, num_bins, density=True, facecolor='red', alpha=0.7,label='Samples Distribution')\n",
    "plt.legend()\n",
    "plt.show()"
   ]
  },
  {
   "cell_type": "code",
   "execution_count": 194,
   "metadata": {},
   "outputs": [],
   "source": [
    "random.shuffle(pi)"
   ]
  },
  {
   "cell_type": "code",
   "execution_count": 199,
   "metadata": {},
   "outputs": [],
   "source": [
    "S = 2864\n",
    "r_simulate = pd.DataFrame(np.array(pi).reshape(59, -1))\n",
    "r_simulate = 2864 * (r_simulate+1).cumprod().iloc[-1, :]"
   ]
  },
  {
   "cell_type": "code",
   "execution_count": 204,
   "metadata": {},
   "outputs": [
    {
     "data": {
      "text/plain": [
       "71.41478216996018"
      ]
     },
     "execution_count": 204,
     "metadata": {},
     "output_type": "execute_result"
    }
   ],
   "source": [
    "def opt_return(ST, K):\n",
    "    return np.max([0, ST-K])\n",
    "r_simulate.apply(lambda x: opt_return(x, 2864)).mean()"
   ]
  }
 ],
 "metadata": {
  "interpreter": {
   "hash": "86466eaf5ee78d9845c9c83f3bd68e3c60cb6c8002418532674ef2a858961b2e"
  },
  "kernelspec": {
   "display_name": "Python 3.8.10 64-bit ('quant': conda)",
   "language": "python",
   "name": "python3"
  },
  "language_info": {
   "codemirror_mode": {
    "name": "ipython",
    "version": 3
   },
   "file_extension": ".py",
   "mimetype": "text/x-python",
   "name": "python",
   "nbconvert_exporter": "python",
   "pygments_lexer": "ipython3",
   "version": "3.8.10"
  },
  "orig_nbformat": 4
 },
 "nbformat": 4,
 "nbformat_minor": 2
}
